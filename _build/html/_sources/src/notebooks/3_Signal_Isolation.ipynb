{
 "cells": [
  {
   "cell_type": "markdown",
   "id": "38920898",
   "metadata": {},
   "source": [
    "# Part 3: Isolate signal from autofluorescence and noise."
   ]
  },
  {
   "cell_type": "markdown",
   "id": "7ad9ea00",
   "metadata": {},
   "source": [
    "In the following notebook you will use the blank channels to isolate signal."
   ]
  },
  {
   "cell_type": "markdown",
   "id": "a9dc80ba",
   "metadata": {},
   "source": [
    "## 1. Import packages. \n",
    "### *This must be done every time the notebook is started or restarted."
   ]
  },
  {
   "cell_type": "code",
   "execution_count": 1,
   "id": "32ce0a89-8797-4eb9-b0fc-243aff74bdb9",
   "metadata": {
    "tags": []
   },
   "outputs": [],
   "source": [
    "from skimage.io import imread, imsave\n",
    "import os\n",
    "import numpy as np\n",
    "import Kview\n",
    "import stackview\n",
    "from matplotlib import pyplot as plt\n",
    "from skimage import filters\n",
    "from skimage import measure\n",
    "from skimage import exposure\n",
    "import pandas as pd\n",
    "from glob import glob\n",
    "from datetime import datetime\n",
    "import xml.etree.ElementTree as ET\n",
    "import tifffile\n",
    "current_dateTime = datetime.now()\n",
    "import warnings\n",
    "import imagej, scyjava\n",
    "import platform\n",
    "warnings.filterwarnings('ignore')\n",
    "\n",
    "\n",
    "def ini_params(im1, im2, Pixel_Cutoff:int=0, Blank_Percentile:float=0.0):\n",
    "\n",
    "    im2_clip = np.clip(im2, Pixel_Cutoff, 65535)\n",
    "    im2_clip[im2_clip <= Pixel_Cutoff] = 0\n",
    "    \n",
    "    im3 = im1 - (np.minimum(im1, im2_clip * Blank_Percentile))\n",
    "    \n",
    "    return im3\n",
    "\n",
    "def find_gauss(im_g1, sigma_value:int=10):\n",
    "\n",
    "    im_g2 = filters.gaussian(im_g1, sigma=sigma_value, preserve_range=True)\n",
    "    return im_g2\n",
    "\n",
    "def clipped_blank(im_cl1, Gauss_low:int = 0, Gauss_high:int = 65535):\n",
    "\n",
    "    im_cl1[Gauss_low >= im_cl1] = 0  \n",
    "    im_cl1[im_cl1 >= Gauss_high] = 0\n",
    "\n",
    "    return im_cl1\n",
    "\n",
    "def final_factor(im_f1, im_f2, low, high, Gauss_Percentile:float=0.2):\n",
    "\n",
    "    im_f2[low >= im_f2] = 0  \n",
    "    im_f2[im_f2 >= high] = 0\n",
    "\n",
    "    im_f3 = im_f1 - (np.minimum(im_f1, im_f2 * Gauss_Percentile))\n",
    "    \n",
    "    return im_f3"
   ]
  },
  {
   "cell_type": "markdown",
   "id": "c25c7b78",
   "metadata": {},
   "source": [
    "## 2. Define directory paths. \n",
    "### *This must be done every time the notebook is started or restarted."
   ]
  },
  {
   "cell_type": "code",
   "execution_count": 2,
   "id": "bea6a294",
   "metadata": {},
   "outputs": [],
   "source": [
    "base_dir = \"C:\\\\Users\\\\smith6jt\""
   ]
  },
  {
   "cell_type": "code",
   "execution_count": 3,
   "id": "bbac4d0b",
   "metadata": {},
   "outputs": [
    {
     "name": "stdout",
     "output_type": "stream",
     "text": [
      "Registration folder is C:\\Users\\smith6jt\\KINTSUGI\\data\\1904_CC2B_Registration.\n",
      "Signal_Isolation folder is C:\\Users\\smith6jt\\KINTSUGI\\data\\1904_CC2B_Signal_Isolation.\n",
      "Processed folder is C:\\Users\\smith6jt\\KINTSUGI\\data\\1904_CC2B_Processed.\n"
     ]
    }
   ],
   "source": [
    "reg_dir = os.path.join(base_dir, 'KINTSUGI', 'data', '1904_CC2B_Registration')\n",
    "sig_dir = reg_dir.replace('_Registration', '_Signal_Isolation')\n",
    "proc_dir = sig_dir.replace('_Signal_Isolation', '_Processed')\n",
    "print(f\"Registration folder is {reg_dir}.\")\n",
    "print(f\"Signal_Isolation folder is {sig_dir}.\")\n",
    "print(f\"Processed folder is {proc_dir}.\")"
   ]
  },
  {
   "cell_type": "markdown",
   "id": "560911b3",
   "metadata": {},
   "source": [
    "### 2.1 This cell only needs to be run once."
   ]
  },
  {
   "cell_type": "code",
   "execution_count": 6,
   "id": "6a17b95c",
   "metadata": {},
   "outputs": [],
   "source": [
    "os.makedirs(sig_dir, exist_ok=True)\n",
    "os.makedirs(proc_dir, exist_ok=True)\n",
    "os.makedirs(os.path.join(proc_dir,'Processing_parameters'), exist_ok=True)\n",
    "os.makedirs(os.path.join(proc_dir,'PostProcessing'), exist_ok=True)"
   ]
  },
  {
   "cell_type": "markdown",
   "id": "59a478f0",
   "metadata": {},
   "source": [
    "## 3. Write single channel tifs"
   ]
  },
  {
   "cell_type": "code",
   "execution_count": 8,
   "id": "9c06c621",
   "metadata": {},
   "outputs": [],
   "source": [
    "ome_tiff_path = reg_dir + \"merged.ome.tif\"\n",
    "ome_tiff = tifffile.imread(ome_tiff_path)\n",
    "\n",
    "with tifffile.TiffFile(ome_tiff_path) as tif:\n",
    "\n",
    "    xml_description = tif.ome_metadata\n",
    "\n",
    "root = ET.fromstring(xml_description)\n",
    "namespace = {'ome': 'http://www.openmicroscopy.org/Schemas/OME/2016-06'}\n",
    "\n",
    "channel_metadata = {}\n",
    "channel_names = []\n",
    "for channel in root.findall('.//ome:Channel', namespace):\n",
    "    channel_name = channel.attrib['Name']\n",
    "    metadata = {}\n",
    "    for key, value in channel.attrib.items():\n",
    "        if key != 'Name':\n",
    "            metadata[key] = value\n",
    "    channel_metadata[channel_name] = metadata\n",
    "    channel_names.append(channel_name)\n",
    "\n",
    "\n",
    "for channel_name, metadata in channel_metadata.items():\n",
    "\n",
    "    channel_index = channel_names.index(channel_name)\n",
    "    channel_data = ome_tiff[channel_index, ...]\n",
    "    channel_image_path = os.path.join(sig_dir, f'{channel_name}.tif')\n",
    "    imsave(channel_image_path, channel_data, plugin='tifffile', metadata=metadata)"
   ]
  },
  {
   "cell_type": "markdown",
   "id": "6ff8bff6",
   "metadata": {},
   "source": [
    "## 4. Determine pixel range and weight of blank channel subtraction."
   ]
  },
  {
   "cell_type": "markdown",
   "id": "1006776b",
   "metadata": {},
   "source": [
    "### 4.1 Instructions"
   ]
  },
  {
   "cell_type": "markdown",
   "id": "fd647ac4",
   "metadata": {},
   "source": [
    "This cell allows the user to choose which blank channel to use (BlankID) and determine how much, if any, blank image to subtract(Blank_Percentile).  It also allows for only subtracting a range of pixel values (Pixel_Cutoff).  Use these values in the next cell.\n",
    "For each marker, enter the name of the image file without the extension for signal_channel.\n",
    "\n",
    "Change 'bl_CH' to a, b, or c according to the channel that marker was imaged on i.e. if marker is CH3, the last letter of both blanks should be 'b', CH4 should be 'c'.  For far-red channels (700nm+), the blank channels often do not match the background autofluorescence well.  If this is the case, a suitable 'b' or 'c' blank should be chosen instead.\n",
    "\n",
    "Change 'bl_int' to 1 or 13 according to the blank cycle.  Blank 13 generally has photobleached autofluorescent signal compared with Blank 1, and generally removes more diffuse background.  Sometimes the images from cycles earlier in the run will match closer to blank1 while those later will match closer to blank13.\n",
    "\n",
    "Sometimes blurring before subtraction can help.  Uncomment to apply to either the blank or signal image.  Adjust sigma to control radius(strength) of blurring.\n",
    "\n",
    "The first Kview.interact function is for viewing the effects of subtraction on a cropped portion of the image.  Adjust coordinates to determine the size.  The second is for viewing the whole image.  \n",
    "\n",
    "To assess subtraction, first slowly move the Blank_Percentile slider while noting if autofluorescent structures only are getting dimmer.  Continue until none of these remain while noting if marker signal is being diminished.  Then, slowly move the other slider until signal is brightest without reintroducing autofluorescence/noise.  Once values of Blank_Percentile and Pixel_Cutoff are found, use them for the next Kview.interact to see how they look on the entire image.\n",
    "\n",
    "Note that these cells are meant to be rerun multiple times if necessary."
   ]
  },
  {
   "cell_type": "markdown",
   "id": "e5e827f4",
   "metadata": {},
   "source": [
    "### 4.2 First Round"
   ]
  },
  {
   "cell_type": "code",
   "execution_count": 4,
   "id": "b1207ad4-7a57-456e-8c47-b4d92e17cf7d",
   "metadata": {
    "tags": []
   },
   "outputs": [
    {
     "name": "stdout",
     "output_type": "stream",
     "text": [
      "Working with: CD8 and Blank1b. Pixel min, max: 0, 55025\n"
     ]
    },
    {
     "data": {
      "application/vnd.jupyter.widget-view+json": {
       "model_id": "d1602a6a430a4d1a89cba5208e0aa442",
       "version_major": 2,
       "version_minor": 0
      },
      "text/plain": [
       "VBox(children=(interactive(children=(IntSlider(value=0, description='Pixel_Cutoff', max=65535, step=1000), Flo…"
      ]
     },
     "execution_count": 4,
     "metadata": {},
     "output_type": "execute_result"
    }
   ],
   "source": [
    "signal_channel = 'CD8'\n",
    "bl_CH = 'b'\n",
    "bl_int = 1\n",
    "\n",
    "params_filename = os.path.join(proc_dir, 'Processing_parameters', f'{signal_channel}_param.txt')\n",
    "signal_image_tiff = imread(os.path.join(sig_dir, f'{signal_channel}.tif'))\n",
    "blankID = f'Blank{str(bl_int)}{bl_CH}'\n",
    "blank_image_tiff = imread(os.path.join(sig_dir, f'{blankID}.tif'))\n",
    "\n",
    "blank_image_tiff = filters.gaussian(blank_image_tiff, sigma=1, preserve_range=True)\n",
    "# signal_image_tiff = filters.gaussian(signal_image_tiff, sigma=1, preserve_range=True)\n",
    "\n",
    "print(f\"Working with: {signal_channel} and {blankID}. Pixel min, max: {np.min(signal_image_tiff)}, {np.max(signal_image_tiff)}\")\n",
    "\n",
    "x1 = 3000\n",
    "x2 = 5000\n",
    "y1 = 4000\n",
    "y2 = 6000\n",
    "\n",
    "# Adjust zoom_factor to fit the image to your screen.  The other values can be adjusted as needed.\n",
    "Kview.interact(ini_params, signal_image_tiff[y1:y2, x1:x2], blank_image_tiff[y1:y2, x1:x2], zoom_factor=0.3, colormap = 'magma', min_value=0, max_value=65535, step=1000)\n",
    "\n",
    "# Kview.interact(ini_params, signal_image_tiff, blank_image_tiff, zoom_factor=0.1, colormap = 'viridis', min_value=0, max_value=50000, step=1000)"
   ]
  },
  {
   "cell_type": "code",
   "execution_count": null,
   "id": "87c99eb9",
   "metadata": {},
   "outputs": [],
   "source": [
    "print(f\"Working with: {signal_channel} and {blankID}. Pixel min, max: {np.min(signal_image_tiff)}, {np.max(signal_image_tiff)}\")\n",
    "Kview.interact(ini_params, signal_image_tiff, blank_image_tiff, zoom_factor=0.1, colormap = 'viridis', min_value=0, max_value=50000, step=1000)"
   ]
  },
  {
   "cell_type": "markdown",
   "id": "83d09817",
   "metadata": {},
   "source": [
    "This cell performs the subtraction with values determined above.\n",
    "If no subtraction was necessary, enter 0 for both and then go to 6. to visualize and save."
   ]
  },
  {
   "cell_type": "code",
   "execution_count": 5,
   "id": "165b8c55-1aa6-4a82-92af-fda100d16b76",
   "metadata": {
    "tags": []
   },
   "outputs": [],
   "source": [
    "# Enter Pixel_Cutoff from above:\n",
    "blank_clip_factor = 13000\n",
    "\n",
    "# Enter Blank_Percentile from above:\n",
    "background_scale_factor = 0.8\n",
    "\n",
    "blank_image = np.clip(blank_image_tiff, blank_clip_factor, blank_image_tiff.max())\n",
    "blank_image[blank_image <= blank_clip_factor] = 0\n",
    "\n",
    "signal_image = signal_image_tiff - (np.minimum(signal_image_tiff, blank_image * background_scale_factor))"
   ]
  },
  {
   "cell_type": "markdown",
   "id": "7fc205bb",
   "metadata": {},
   "source": [
    "### 4.3 Second Round"
   ]
  },
  {
   "cell_type": "markdown",
   "id": "dc321249",
   "metadata": {},
   "source": [
    "If desired the process can be repeated with the same or another blank channel to get satisfactory results. "
   ]
  },
  {
   "cell_type": "code",
   "execution_count": 6,
   "id": "f44f5341-93c0-4458-91ab-4922498249b1",
   "metadata": {},
   "outputs": [
    {
     "name": "stdout",
     "output_type": "stream",
     "text": [
      "Working with: CD8 and Blank1b. Pixel min, max: 0, 55025\n"
     ]
    },
    {
     "data": {
      "application/vnd.jupyter.widget-view+json": {
       "model_id": "93bd6908f5254315ad7312e621adcc2d",
       "version_major": 2,
       "version_minor": 0
      },
      "text/plain": [
       "VBox(children=(interactive(children=(IntSlider(value=0, description='Pixel_Cutoff', max=50000, step=1000), Flo…"
      ]
     },
     "execution_count": 6,
     "metadata": {},
     "output_type": "execute_result"
    }
   ],
   "source": [
    "bl_CH2 = 'b'\n",
    "bl_int2 = 13\n",
    "\n",
    "blankID2 = f'Blank{str(bl_int)}{bl_CH}'\n",
    "blank_image_tiff_2 = imread(os.path.join(sig_dir, f'{blankID2}.tif'))\n",
    "blank_image_tiff_2 = filters.gaussian(blank_image_tiff_2, sigma=1, preserve_range=True)\n",
    "\n",
    "print(f\"Working with: {signal_channel} and {blankID2}. Pixel min, max: {np.min(signal_image_tiff)}, {np.max(signal_image_tiff)}\")\n",
    "\n",
    "x1 = 3000\n",
    "x2 = 5000\n",
    "y1 = 4000\n",
    "y2 = 7000\n",
    "\n",
    "Kview.interact(ini_params, signal_image[y1:y2, x1:x2], blank_image_tiff_2[y1:y2, x1:x2], zoom_factor=0.2, colormap = 'viridis', min_value=0, max_value=50000, step=1000)"
   ]
  },
  {
   "cell_type": "code",
   "execution_count": null,
   "id": "66570c78",
   "metadata": {},
   "outputs": [],
   "source": [
    "print(f\"Working with: {signal_channel} and {blankID2}. Pixel min, max: {np.min(signal_image_tiff)}, {np.max(signal_image_tiff)}\")\n",
    "Kview.interact(ini_params, signal_image, blank_image_tiff_2, zoom_factor=0.1, colormap = 'viridis', min_value=0, max_value=50000, step=1000)"
   ]
  },
  {
   "cell_type": "code",
   "execution_count": 7,
   "id": "574ed834-0491-4509-8de9-32d5c9b77c10",
   "metadata": {
    "tags": []
   },
   "outputs": [],
   "source": [
    "blank_clip_factor_2 = 0\n",
    "background_scale_factor_2 = 0.7\n",
    "blank_image_2 = np.clip(blank_image_tiff_2, blank_clip_factor_2, blank_image_tiff_2.max())\n",
    "blank_image_2[blank_image_2 <= blank_clip_factor_2] = 0\n",
    "signal_image = signal_image - (np.minimum(signal_image, blank_image_2 * background_scale_factor_2))"
   ]
  },
  {
   "cell_type": "markdown",
   "id": "3286670c",
   "metadata": {},
   "source": [
    "## 5. Gaussian Subtraction"
   ]
  },
  {
   "cell_type": "markdown",
   "id": "a98e266b",
   "metadata": {},
   "source": [
    "### 5.1 Determine Sigma"
   ]
  },
  {
   "cell_type": "markdown",
   "id": "2f037d47",
   "metadata": {},
   "source": [
    "If no other changes need to be made, go to Section 6 and save.\n",
    "\n",
    "If there are patterns such as those with right angles that don't represent biological variation, this section derives the pattern pixels for subtraction by creating a blurred version of the image, determining which pixels to clip, and then determining the weight of subtraction.  \n",
    "\n",
    "This Kview.interact function helps to find the optimal sigma value for blurring."
   ]
  },
  {
   "cell_type": "code",
   "execution_count": null,
   "id": "b48e39a6-f945-4160-b0fc-9b8e623982cb",
   "metadata": {
    "tags": []
   },
   "outputs": [],
   "source": [
    "# Higher sigma_values take longer to process.\n",
    "Kview.interact(find_gauss, signal_image, zoom_factor=0.1, colormap = 'viridis', min_value=0, max_value=60, step=5)"
   ]
  },
  {
   "cell_type": "markdown",
   "id": "2cb9dff7",
   "metadata": {},
   "source": [
    "Enter the sigma value to control the degree of blurring."
   ]
  },
  {
   "cell_type": "code",
   "execution_count": 8,
   "id": "e7c93bd2-830c-46ff-81f6-70c35607712f",
   "metadata": {
    "tags": []
   },
   "outputs": [],
   "source": [
    "sigma = 20\n",
    "signal_gauss = filters.gaussian(signal_image, sigma=sigma, preserve_range=True)\n",
    "signal_gauss = exposure.match_histograms(signal_gauss, signal_image, multichannel=False)"
   ]
  },
  {
   "cell_type": "markdown",
   "id": "ac26ca44",
   "metadata": {},
   "source": [
    "### 5.2 Determine Pixel Range"
   ]
  },
  {
   "cell_type": "markdown",
   "id": "8e52af9f",
   "metadata": {},
   "source": [
    "Apply a range of pixel values to the gaussian subtraction by clipping low and/or high pixels from the blurred signal image that will be subtracted from the original signal image.  Run after performing the gaussian blur in the cell above.  \n",
    "\n",
    "Raising the Gauss_low value will eliminate the dimmer pixel values from the blurred image, resulting in more of the dimmer signal being preserved in the final processed image.  \n",
    "\n",
    "Lowering the Gauss_high value will eliminate the brighter pixel values from the blurred image, resulting in more of the brighter signal being preserved in the final processed image.\n",
    "\n",
    "Comment/uncomment the lines to view cropped and full views of the blurred image."
   ]
  },
  {
   "cell_type": "code",
   "execution_count": null,
   "id": "1eb33ea8-a915-4c91-ae68-ec89231032a6",
   "metadata": {
    "tags": []
   },
   "outputs": [],
   "source": [
    "# Kview.interact(clipped_blank, signal_gauss[x1:x2,y1:y2], zoom_factor=0.5, colormap = 'viridis', continuous_update=True, display_min = 0, display_max = np.max(signal_gauss), min_value=0, max_value=np.max(signal_gauss), step=100)\n",
    "\n",
    "Kview.interact(clipped_blank, signal_gauss, zoom_factor=0.07, colormap = 'viridis', continuous_update=True, display_min = 0, display_max = np.max(signal_gauss), min_value=0, max_value=np.max(signal_gauss), step=100)"
   ]
  },
  {
   "cell_type": "markdown",
   "id": "8fd2d347",
   "metadata": {},
   "source": [
    "### 5.3 Determine Weight"
   ]
  },
  {
   "cell_type": "markdown",
   "id": "45289bcf",
   "metadata": {},
   "source": [
    "Determine how much subtraction to do, similar to Blank_Percentile in Section 4.  Enter the Gauss_Cutoff values from the cell above."
   ]
  },
  {
   "cell_type": "code",
   "execution_count": 9,
   "id": "c699d65e-f50e-4756-a286-aef8da0ae3bb",
   "metadata": {
    "tags": []
   },
   "outputs": [
    {
     "data": {
      "application/vnd.jupyter.widget-view+json": {
       "model_id": "d50e91923ac74151ae50ec46e2d21678",
       "version_major": 2,
       "version_minor": 0
      },
      "text/plain": [
       "VBox(children=(interactive(children=(FloatSlider(value=0.0, description='Gauss_Percentile', max=2.0), Output()…"
      ]
     },
     "execution_count": 9,
     "metadata": {},
     "output_type": "execute_result"
    }
   ],
   "source": [
    "Gauss_low = 10800\n",
    "Gauss_high = 44789\n",
    "\n",
    "Kview.interact(final_factor, signal_image, signal_gauss, Gauss_low, Gauss_high, colormap = 'viridis', display_max = np.max(signal_gauss), zoom_factor=0.07)\n",
    "\n",
    "# Kview.interact(final_factor, signal_image[x1:x2,y1:y2], signal_gauss[x1:x2,y1:y2], Gauss_low, Gauss_high, colormap = 'viridis', display_max = np.max(signal_gauss), zoom_factor=.07)"
   ]
  },
  {
   "cell_type": "markdown",
   "id": "be55c665",
   "metadata": {},
   "source": [
    "### 5.4 Perform Subtraction"
   ]
  },
  {
   "cell_type": "markdown",
   "id": "7776f12f",
   "metadata": {},
   "source": [
    "Performs the gaussian subtraction.  Enter the value determined from the previous cell."
   ]
  },
  {
   "cell_type": "code",
   "execution_count": 10,
   "id": "837a306b-b446-438e-b47a-3df5588825ca",
   "metadata": {
    "tags": []
   },
   "outputs": [],
   "source": [
    "g_low = Gauss_low\n",
    "g_high = Gauss_high\n",
    "gauss_weight = 0.2\n",
    "\n",
    "signal_gauss[g_low >= signal_gauss] = 0  \n",
    "signal_gauss[signal_gauss >= g_high] = 0\n",
    "\n",
    "signal_image_final = signal_image - (np.minimum(signal_image, signal_gauss * gauss_weight))"
   ]
  },
  {
   "cell_type": "markdown",
   "id": "cf4c13b2",
   "metadata": {},
   "source": [
    "## 6. View Results"
   ]
  },
  {
   "cell_type": "code",
   "execution_count": null,
   "id": "f103ac8a-451f-4d54-a9e6-97b454bfc44e",
   "metadata": {
    "tags": []
   },
   "outputs": [],
   "source": [
    "# Note that if no changes were made after initial subtraction, you must change signal_image_final to signal_image.\n",
    "fig, axes = plt.subplots(1, 1, figsize=(15, 15))\n",
    "im = axes.imshow(signal_image_final)\n",
    "fig.colorbar(im, ax=axes, shrink=.65)\n",
    "plt.show()"
   ]
  },
  {
   "cell_type": "code",
   "execution_count": null,
   "id": "675dc75c",
   "metadata": {},
   "outputs": [],
   "source": [
    "x1 = 3000\n",
    "x2 = 3500\n",
    "y1 = 4000\n",
    "y2 = 4500\n",
    "stackview.curtain(signal_image_tiff[x1:x2,y1:y2], signal_image_final[x1:x2,y1:y2], alpha=1, zoom_factor=1.5, colormap = 'magma', curtain_colormap='viridis')"
   ]
  },
  {
   "cell_type": "code",
   "execution_count": null,
   "id": "65e1a03a",
   "metadata": {},
   "outputs": [],
   "source": [
    "stackview.animate_curtain(signal_image_tiff[x1:x2,y1:y2], signal_image_final[x1:x2,y1:y2], zoom_factor=1.5, colormap = 'magma', curtain_colormap='viridis', filename=os.path.join(base_dir, 'KINTSUGI', 'docs', f'{signal_channel}_curtain.gif'), frame_delay_ms=500, num_loops=10)"
   ]
  },
  {
   "cell_type": "markdown",
   "id": "5cbafb76",
   "metadata": {},
   "source": [
    "## 6. Post Processing"
   ]
  },
  {
   "cell_type": "markdown",
   "id": "ccfc34d9",
   "metadata": {},
   "source": [
    "Move your mouse around the output of the following cell to assess background levels.  Areas with no signal should be zero.  Find the highest background values to subtract from the entire image."
   ]
  },
  {
   "cell_type": "code",
   "execution_count": null,
   "id": "39c4c058",
   "metadata": {},
   "outputs": [],
   "source": [
    "stackview.picker(signal_image_final[x1:x2,y1:y2], colormap='viridis', zoom_factor=1.5)"
   ]
  },
  {
   "cell_type": "code",
   "execution_count": 11,
   "id": "3af2dd54",
   "metadata": {},
   "outputs": [
    {
     "name": "stdout",
     "output_type": "stream",
     "text": [
      "Assistant skips harvesting pyclesperanto as it's not installed.\n"
     ]
    },
    {
     "data": {
      "text/plain": [
       "<Image layer 'signal_image_final' at 0x1c5b9b5b940>"
      ]
     },
     "execution_count": 11,
     "metadata": {},
     "output_type": "execute_result"
    }
   ],
   "source": [
    "import napari\n",
    "\n",
    "viewer = napari.Viewer()\n",
    "viewer.add_image(signal_image_final, name='signal_image_final', colormap='viridis')"
   ]
  },
  {
   "cell_type": "markdown",
   "id": "ee10c083",
   "metadata": {},
   "source": [
    "## 7. Save Image and Parameters"
   ]
  },
  {
   "cell_type": "markdown",
   "id": "b85a9111",
   "metadata": {},
   "source": [
    "Even with this process, it may be that certain markers should be excluded.  Manually create a \"failed markers\" file to list these and save it in the 'Processing_parameters' folder.\n",
    "\n",
    "This cell saves the image and the parameters used.  The next steps in FIJI should be saved using Plugins>Macros>Record to record all steps. Copy/paste to append to the params file.\n"
   ]
  },
  {
   "cell_type": "code",
   "execution_count": 39,
   "id": "d761a62d-f5ee-4137-91f6-8e8142a910dd",
   "metadata": {
    "tags": []
   },
   "outputs": [],
   "source": [
    "Notes = '''\n",
    "Here you can add any notes you want to save with the processing parameters.\n",
    "'''\n",
    "variables = globals()\n",
    "variable_names_to_save = ['current_dateTime',\n",
    "                           'signal_channel', \n",
    "                           'blankID', \n",
    "                           'blank_clip_factor', \n",
    "                           'background_scale_factor', \n",
    "                           'blankID2', \n",
    "                           'blank_clip_factor_2', \n",
    "                           'background_scale_factor_2', \n",
    "                           'sigma', \n",
    "                           'g_low', \n",
    "                           'g_high', \n",
    "                           's_image_factor',\n",
    "                           'blank_factor', \n",
    "                           'Notes']\n",
    "\n",
    "with open(params_filename, 'w') as file:\n",
    "    for var_name in variable_names_to_save:\n",
    "        if var_name in variables:\n",
    "            var_value = variables[var_name]\n",
    "            var_str = f'{var_name}: {repr(var_value)}\\n'\n",
    "            file.write(var_str)\n",
    "\n",
    "imsave(os.path.join(proc_dir, f'{signal_channel}.tif'), signal_image)"
   ]
  },
  {
   "cell_type": "markdown",
   "id": "e97e7687-574f-4987-8806-4541dfe6b4fc",
   "metadata": {
    "tags": []
   },
   "source": [
    "## 7. Auxiliary Functions"
   ]
  },
  {
   "cell_type": "markdown",
   "id": "d93de206",
   "metadata": {},
   "source": [
    "Merge all the images together."
   ]
  },
  {
   "cell_type": "code",
   "execution_count": 7,
   "id": "0a04f701-6464-427f-b1a6-7057e1b4718e",
   "metadata": {},
   "outputs": [],
   "source": [
    "sample_id = '1904_CC2B'\n",
    "pixelsize = 0.3774\n",
    "channel_names = []\n",
    "file_list = glob(os.path.join(proc_dir,'*.tif'))\n",
    "for file in file_list:\n",
    "\n",
    "    file_name = os.path.basename(file)\n",
    "    channel_name = file_name.split('.')[0]\n",
    "    channel_names.append(channel_name)\n",
    "\n",
    "image = imread(file_list).astype(np.uint8)\n",
    "\n",
    "imsave(os.path.join(proc_dir,f'{sample_id}.tif'), image, imagej=True, resolution=(1/pixelsize, 1/pixelsize), resolutionunit='micron', metadata={'axes': 'CYX', 'Labels': channel_names})"
   ]
  },
  {
   "cell_type": "markdown",
   "id": "ccc3d6de",
   "metadata": {},
   "source": [
    "This function may be used in place of ini_params above to assess how subtraction affects signal to noise.  Must have a binary segmentation file."
   ]
  },
  {
   "cell_type": "code",
   "execution_count": null,
   "id": "106c5a67-aae9-447c-87ae-9abcb8980fb1",
   "metadata": {
    "tags": []
   },
   "outputs": [],
   "source": [
    "def ini_params_SNR(images, imageb, seg_mask, blclfa:int=0, bckscfa:float=.0):\n",
    "\n",
    "    blank_image = np.clip(imageb, blclfa, 65535)\n",
    "    blank_image[blank_image <= blclfa] = 0\n",
    "\n",
    "    signal_image = images - (np.minimum(images, blank_image * bckscfa))\n",
    "    seg_mask = measure.label(seg_mask, return_num=True, background=0)\n",
    "    properties = measure.regionprops(seg_mask[0], intensity_image=signal_image)\n",
    "    statistics = {\n",
    "   \n",
    "    'area':       [p.area               for p in properties if p.area<800],\n",
    "    'mean':       [p.mean_intensity     for p in properties if p.area<800]\n",
    "    }\n",
    "    df = pd.DataFrame(statistics)\n",
    "    \n",
    "    MFI = np.asarray(df['mean'])\n",
    "    aX = MFI.flatten()\n",
    "    # compute 20 largest values in aX\n",
    "    top20 = np.sort(aX)[-20:]\n",
    "    # compute the mean of bottom 10th percentile of aX\n",
    "    btm10 = np.sort(aX)[:int(len(aX)*0.1)]\n",
    "    top20btm10 = np.mean(top20)/np.mean(btm10)\n",
    "    \n",
    "    print('SNR is ' + str(top20btm10)) \n",
    "    print(df.describe())\n",
    "    return signal_image"
   ]
  },
  {
   "cell_type": "code",
   "execution_count": null,
   "id": "c0abbf6c",
   "metadata": {},
   "outputs": [],
   "source": [
    "Kview.interact(ini_params_SNR, signal_image, blank_image_tiff_2, zoom_factor=0.1, colormap = 'viridis', min_value=0, max_value=50000, step=1000)"
   ]
  }
 ],
 "metadata": {
  "kernelspec": {
   "display_name": "KINTSUGI",
   "language": "python",
   "name": "python3"
  },
  "language_info": {
   "codemirror_mode": {
    "name": "ipython",
    "version": 3
   },
   "file_extension": ".py",
   "mimetype": "text/x-python",
   "name": "python",
   "nbconvert_exporter": "python",
   "pygments_lexer": "ipython3",
   "version": "3.9.20"
  },
  "toc-autonumbering": true
 },
 "nbformat": 4,
 "nbformat_minor": 5
}
