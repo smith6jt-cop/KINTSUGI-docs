{
 "cells": [
  {
   "cell_type": "markdown",
   "metadata": {},
   "source": [
    "# Part 6: Cluster cells."
   ]
  },
  {
   "cell_type": "markdown",
   "metadata": {},
   "source": [
    "In the following notebook you will continue the process of phenotyping cells by combining the pixel clustering with the segmentation features.  This is the \"Pixie\" project from the ark-analysis repo https://github.com/angelolab/ark-analysis/tree/main"
   ]
  },
  {
   "cell_type": "markdown",
   "metadata": {},
   "source": [
    "## 1. Import packages. \n",
    "### *This must be done every time the notebook is started or restarted."
   ]
  },
  {
   "cell_type": "markdown",
   "metadata": {},
   "source": [
    "NOTE: this notebook should be run after `2_Pixie_Cluster_Pixels.ipynb`"
   ]
  },
  {
   "cell_type": "code",
   "execution_count": 1,
   "metadata": {
    "execution": {
     "iopub.execute_input": "2024-11-08T20:30:07.341100Z",
     "iopub.status.busy": "2024-11-08T20:30:07.340925Z",
     "iopub.status.idle": "2024-11-08T20:30:07.343937Z",
     "shell.execute_reply": "2024-11-08T20:30:07.343565Z",
     "shell.execute_reply.started": "2024-11-08T20:30:07.341087Z"
    },
    "tags": [
     "import"
    ]
   },
   "outputs": [],
   "source": [
    "import json\n",
    "import os\n",
    "from datetime import datetime as dt\n",
    "import warnings\n",
    "warnings.filterwarnings('ignore')\n",
    "import feather\n",
    "import matplotlib.pyplot as plt\n",
    "import pandas as pd\n",
    "from alpineer import load_utils\n",
    "from matplotlib import rc_file_defaults\n",
    "import matplotlib.gridspec as gridspec\n",
    "import numpy as np\n",
    "import pyFlowSOM\n",
    "import seaborn as sns\n",
    "from matplotlib.colors import ListedColormap\n",
    "from tifffile import imread\n",
    "from tqdm.notebook import tqdm\n",
    "import stackview\n",
    "\n",
    "from ark.phenotyping import (cell_cluster_utils, cell_meta_clustering,\n",
    "                             cell_som_clustering, weighted_channel_comp)\n",
    "from ark.utils import data_utils, plot_utils\n",
    "from ark.utils.metacluster_remap_gui import (MetaClusterGui,\n",
    "                                             colormap_helper,\n",
    "                                             metaclusterdata_from_files)"
   ]
  },
  {
   "cell_type": "markdown",
   "metadata": {},
   "source": [
    "## 2. Define directory paths. \n",
    "### *This must be done every time the notebook is started or restarted."
   ]
  },
  {
   "cell_type": "code",
   "execution_count": null,
   "metadata": {
    "execution": {
     "iopub.execute_input": "2024-11-08T20:30:12.071265Z",
     "iopub.status.busy": "2024-11-08T20:30:12.071100Z",
     "iopub.status.idle": "2024-11-08T20:30:12.073506Z",
     "shell.execute_reply": "2024-11-08T20:30:12.073146Z",
     "shell.execute_reply.started": "2024-11-08T20:30:12.071253Z"
    },
    "tags": [
     "base_dir"
    ]
   },
   "outputs": [],
   "source": [
    "base_dir = \"C:/Users/smith6jt/KINTSUGI/data/1904_CC2B_Segmentation\"\n",
    "print(f\"Segmentation folder is {base_dir}.\")"
   ]
  },
  {
   "cell_type": "markdown",
   "metadata": {
    "tags": []
   },
   "source": [
    "## 3. Load parameters for cell clustering (saved during `2_Cluster_Pixels.ipynb`)"
   ]
  },
  {
   "cell_type": "markdown",
   "metadata": {},
   "source": [
    "`cell_clustering_params_name` should be `cell_clustering_params.json` contained in `{pixel_cluster_prefix}_pixel_output_dir`. Make sure to set `base_dir` and `pixel_output_dir` to the same value used in `2_Pixie_Cluster_Pixels.ipynb`.\n",
    "\n",
    "NOTE: `{pixel_cluster_prefix}` is set in `2_Cluster_Pixels.ipynb`. If you did not explicity set a `{pixel_cluster_prefix}` in `2_Cluster_Pixels.ipynb`, the prefix defaults to the timestamp of the run. Please check the run directory (`base_dir` as set in `2_Cluster_Pixels.ipynb`) to see the prefix that was used."
   ]
  },
  {
   "cell_type": "code",
   "execution_count": 4,
   "metadata": {
    "execution": {
     "iopub.execute_input": "2024-11-08T20:31:24.556983Z",
     "iopub.status.busy": "2024-11-08T20:31:24.556818Z",
     "iopub.status.idle": "2024-11-08T20:31:24.559565Z",
     "shell.execute_reply": "2024-11-08T20:31:24.559195Z",
     "shell.execute_reply.started": "2024-11-08T20:31:24.556971Z"
    },
    "tags": [
     "dir_set"
    ]
   },
   "outputs": [],
   "source": [
    "# define the name of the folder containing the pixel cluster data\n",
    "pixel_output_dir = '1904CC2B28_pixel_output_dir'\n",
    "\n",
    "# define the name of the cell clustering params file\n",
    "cell_clustering_params_name = 'cell_clustering_params.json'"
   ]
  },
  {
   "cell_type": "markdown",
   "metadata": {},
   "source": [
    "The following params are loaded:\n",
    "\n",
    "* `fovs`: subset of fovs used for pixel clustering\n",
    "* `channels`: subset of channels used for pixel clustering\n",
    "* `tiff_dir`: path to the directory containing your imaging data. Images should be single-channel TIFFs.\n",
    "* `img_sub_folder`: if `tiff_dir` contains an additional subfolder structure, set to the appropriate folder name (or `None` if no such structure present)\n",
    "* `segmentation_dir`: path to the directory containing your segmented images (can be generated from `1_Segment_Image_Data.ipynb`)\n",
    "* `seg_suffix`: suffix plus the file extension of the segmented images for each FOV\n",
    "* `pixel_data_dir`: name of the directory containing pixel data with the pixel SOM and meta cluster assignments\n",
    "* `pc_chan_avg_som_cluster_name`: name of the file containing the average channel expression per pixel SOM cluster, used for the visualization of weighted channel average per cell\n",
    "* `pc_chan_avg_meta_cluster_name`: name of the file containing the average channel expression per pixel meta cluster, used for the visualization of weighted channel average per cell\n",
    "\n",
    "Additionally, define the following parameter:\n",
    "\n",
    "* `cell_table_path`: path to the cell table where each row in the table is one cell, must contain `fov`, `label`, and `cell_size` columns. Can be created by `1_Segment_Image_Data.ipynb`, should be placed in `segmentation_dir` by default. You can use either the normalized or arcsinh versions (only columns that are used are `fov`, `label`, and `cell_size`)."
   ]
  },
  {
   "cell_type": "code",
   "execution_count": 5,
   "metadata": {
    "execution": {
     "iopub.execute_input": "2024-11-08T20:31:32.397665Z",
     "iopub.status.busy": "2024-11-08T20:31:32.397478Z",
     "iopub.status.idle": "2024-11-08T20:31:32.401093Z",
     "shell.execute_reply": "2024-11-08T20:31:32.400719Z",
     "shell.execute_reply.started": "2024-11-08T20:31:32.397652Z"
    },
    "tags": [
     "param_load"
    ]
   },
   "outputs": [],
   "source": [
    "# load the params\n",
    "with open(os.path.join(base_dir, \"pixie\", pixel_output_dir, cell_clustering_params_name)) as fh:\n",
    "    cell_clustering_params = json.load(fh)\n",
    "    \n",
    "# assign the params to variables\n",
    "fovs = cell_clustering_params['fovs']\n",
    "channels = cell_clustering_params['channels']\n",
    "tiff_dir = cell_clustering_params['tiff_dir']\n",
    "img_sub_folder = cell_clustering_params['img_sub_folder']\n",
    "segmentation_dir = cell_clustering_params['segmentation_dir']\n",
    "seg_suffix = cell_clustering_params['seg_suffix']\n",
    "pixel_data_dir = cell_clustering_params['pixel_data_dir']\n",
    "pc_chan_avg_som_cluster_name = cell_clustering_params['pc_chan_avg_som_cluster_name']\n",
    "pc_chan_avg_meta_cluster_name = cell_clustering_params['pc_chan_avg_meta_cluster_name']\n",
    "\n",
    "# define the cell table path\n",
    "cell_table_path = os.path.join(base_dir, 'segmentation', 'cell_table', 'cell_table_size_normalized.csv')"
   ]
  },
  {
   "cell_type": "markdown",
   "metadata": {},
   "source": [
    "## 4. Preprocess"
   ]
  },
  {
   "cell_type": "markdown",
   "metadata": {},
   "source": [
    "Set a prefix to be applied to all data directories/files created during cell clustering. If the prefix is not set, a default of the datetime at the start of the run is used."
   ]
  },
  {
   "cell_type": "code",
   "execution_count": 7,
   "metadata": {
    "execution": {
     "iopub.execute_input": "2024-11-08T20:33:14.802173Z",
     "iopub.status.busy": "2024-11-08T20:33:14.801896Z",
     "iopub.status.idle": "2024-11-08T20:33:14.804396Z",
     "shell.execute_reply": "2024-11-08T20:33:14.804046Z",
     "shell.execute_reply.started": "2024-11-08T20:33:14.802160Z"
    },
    "tags": [
     "cluster_prefix"
    ]
   },
   "outputs": [],
   "source": [
    "# explicitly set cell_cluster_prefix to override datetime default\n",
    "cell_cluster_prefix = '1904CC2B28'\n",
    "\n",
    "if cell_cluster_prefix is None:\n",
    "    cell_cluster_prefix = dt.now().strftime('%Y-%m-%dT%H:%M:%S')"
   ]
  },
  {
   "cell_type": "markdown",
   "metadata": {},
   "source": [
    "The following folders/files will be created with names prefixed by `cell_cluster_prefix`:\n",
    "\n",
    "* `cell_output_dir`: directory name where the cell clustering outputs are stored\n",
    "* `cell_som_weights_name`: file name to store the cell SOM weights\n",
    "* `cluster_counts_name`: file name to store the counts of each pixel cluster per cell\n",
    "* `cluster_counts_size_norm_name`: same as above, except with each value normalized by the respective cell's size. The data will also contain the cell SOM and meta cluster labels assigned.\n",
    "* `weighted_cell_channel_name`: file name to store the weighted cell channel expression for each cell. Refer to <a href=https://ark-analysis.readthedocs.io/en/latest/_markdown/ark.phenotyping.html#ark.phenotyping.cell_cluster_utils.compute_p2c_weighted_channel_avg>cell channel weighting docs</a> for how the weighting is computed.\n",
    "* `cell_som_cluster_count_avg_name`: file name to store the average number of pixel clusters per cell SOM cluster\n",
    "* `cell_meta_cluster_count_avg_name`: same as above for cell meta clusters\n",
    "* `cell_som_cluster_channel_avg_name`: file name to store the average weighted channel expression per cell SOM cluster\n",
    "* `cell_meta_cluster_channel_avg_name`: same as above for cell meta clusters\n",
    "* `cell_meta_cluster_remap_name`: file name to store the SOM cluster to meta cluster manual mappings created using the GUI below"
   ]
  },
  {
   "cell_type": "code",
   "execution_count": 8,
   "metadata": {
    "execution": {
     "iopub.execute_input": "2024-11-08T20:33:17.829761Z",
     "iopub.status.busy": "2024-11-08T20:33:17.829552Z",
     "iopub.status.idle": "2024-11-08T20:33:17.833052Z",
     "shell.execute_reply": "2024-11-08T20:33:17.832696Z",
     "shell.execute_reply.started": "2024-11-08T20:33:17.829749Z"
    },
    "tags": [
     "cell_cluster_files"
    ]
   },
   "outputs": [],
   "source": [
    "# define the base output cell folder\n",
    "cell_output_dir = '%s_cell_output_dir' % cell_cluster_prefix\n",
    "if not os.path.exists(os.path.join(base_dir, \"pixie\", cell_output_dir)):\n",
    "    os.mkdir(os.path.join(base_dir, \"pixie\", cell_output_dir))\n",
    "    \n",
    "# define the paths to cell clustering files, explicitly set the variables to use custom names\n",
    "cell_som_weights_name = os.path.join(\"pixie\", cell_output_dir, 'cell_som_weights.feather')\n",
    "cluster_counts_name = os.path.join(\"pixie\", cell_output_dir, 'cluster_counts.feather')\n",
    "cluster_counts_size_norm_name = os.path.join(\"pixie\", cell_output_dir, 'cluster_counts_size_norm.feather')\n",
    "weighted_cell_channel_name = os.path.join(\"pixie\", cell_output_dir, 'weighted_cell_channel.feather')\n",
    "cell_som_cluster_count_avg_name = os.path.join(\"pixie\", cell_output_dir, 'cell_som_cluster_count_avg.csv')\n",
    "cell_meta_cluster_count_avg_name = os.path.join(\"pixie\", cell_output_dir, 'cell_meta_cluster_count_avg.csv')\n",
    "cell_som_cluster_channel_avg_name = os.path.join(\"pixie\", cell_output_dir, 'cell_som_cluster_channel_avg.csv')\n",
    "cell_meta_cluster_channel_avg_name = os.path.join(\"pixie\", cell_output_dir, 'cell_meta_cluster_channel_avg.csv')\n",
    "cell_meta_cluster_remap_name = os.path.join(\"pixie\", cell_output_dir, 'cell_meta_cluster_mapping.csv')"
   ]
  },
  {
   "cell_type": "markdown",
   "metadata": {},
   "source": [
    "Additionally, define the following variable:\n",
    "\n",
    "* `pixel_cluster_col`: whether to use the pixel SOM or meta cluster counts for cell clustering. Must be either `'pixel_som_cluster'` or `'pixel_meta_cluster_rename'`. Note that if you did not explicitly rename your pixel meta clusters in `2_Cluster_Pixels.ipynb`, the default numeric names will be used."
   ]
  },
  {
   "cell_type": "code",
   "execution_count": 9,
   "metadata": {
    "execution": {
     "iopub.execute_input": "2024-11-08T20:33:21.445167Z",
     "iopub.status.busy": "2024-11-08T20:33:21.445005Z",
     "iopub.status.idle": "2024-11-08T20:33:21.447601Z",
     "shell.execute_reply": "2024-11-08T20:33:21.447239Z",
     "shell.execute_reply.started": "2024-11-08T20:33:21.445156Z"
    },
    "tags": [
     "pixel_cluster_col"
    ]
   },
   "outputs": [],
   "source": [
    "# define the type of pixel cluster to aggregate on\n",
    "pixel_cluster_col = 'pixel_meta_cluster_rename'\n",
    "\n",
    "# depending on which pixel_cluster_col is selected, choose the pixel channel average table accordingly\n",
    "if pixel_cluster_col == 'pixel_som_cluster':\n",
    "    pc_chan_avg_name = pc_chan_avg_som_cluster_name\n",
    "elif pixel_cluster_col == 'pixel_meta_cluster_rename':\n",
    "    pc_chan_avg_name = pc_chan_avg_meta_cluster_name"
   ]
  },
  {
   "cell_type": "markdown",
   "metadata": {},
   "source": [
    "Generate the input data for the cell SOM. This computes the counts of each pixel cluster per cell, both raw and normalized by cell size.\n",
    "\n",
    "If both datasets already exist, load them in instead."
   ]
  },
  {
   "cell_type": "markdown",
   "metadata": {},
   "source": [
    "The next cell decompresses the data from the end of the Segmentation notebook.  If you did not compress the data at that point, skip this cell and proceed to the next."
   ]
  },
  {
   "cell_type": "code",
   "execution_count": null,
   "metadata": {
    "tags": []
   },
   "outputs": [],
   "source": [
    "import zstandard as zstd\n",
    "\n",
    "# Path to the compressed CSV file\n",
    "compressed_file_path = cell_table_path\n",
    "\n",
    "# Decompress and read the CSV directly\n",
    "with open(compressed_file_path, 'rb') as compressed_file:\n",
    "    dctx = zstd.ZstdDecompressor()\n",
    "    with dctx.stream_reader(compressed_file) as decompressed_file:\n",
    "        # Read decompressed file into pandas dataframe\n",
    "        cell_table = pd.read_csv(decompressed_file)\n",
    "        cell_table.to_csv(cell_table_path,\n",
    "                                  compression=None, index=False)\n",
    "\n",
    "# Now 'cell_table' contains the decompressed CSV data\n"
   ]
  },
  {
   "cell_type": "code",
   "execution_count": 10,
   "metadata": {
    "execution": {
     "iopub.execute_input": "2024-11-08T19:36:48.958362Z",
     "iopub.status.busy": "2024-11-08T19:36:48.958186Z",
     "iopub.status.idle": "2024-11-08T19:37:07.670071Z",
     "shell.execute_reply": "2024-11-08T19:37:07.669559Z",
     "shell.execute_reply.started": "2024-11-08T19:36:48.958349Z"
    },
    "tags": [
     "generate_som_input_data"
    ]
   },
   "outputs": [],
   "source": [
    "if os.path.exists(os.path.join(base_dir, cluster_counts_name)) and os.path.exists(os.path.join(base_dir, cluster_counts_size_norm_name)):\n",
    "    # load the data if it exists\n",
    "    cluster_counts = feather.read_dataframe(os.path.join(base_dir, cluster_counts_name))\n",
    "    cluster_counts_size_norm = feather.read_dataframe(os.path.join(base_dir, cluster_counts_size_norm_name))\n",
    "else:\n",
    "    # generate the preprocessed data \n",
    "    cluster_counts, cluster_counts_size_norm = cell_cluster_utils.create_c2pc_data(\n",
    "        fovs, os.path.join(base_dir, pixel_data_dir), cell_table_path, pixel_cluster_col\n",
    "    )\n",
    "\n",
    "    # write both unnormalized and normalized input data for reference\n",
    "    feather.write_dataframe(\n",
    "        cluster_counts,\n",
    "        os.path.join(base_dir, cluster_counts_name),\n",
    "        compression='uncompressed'\n",
    "    )\n",
    "    feather.write_dataframe(\n",
    "        cluster_counts_size_norm,\n",
    "        os.path.join(base_dir, cluster_counts_size_norm_name),\n",
    "        compression='uncompressed'\n",
    "    )\n",
    "    \n",
    "# define the count columns found in cluster_counts_norm\n",
    "cell_som_cluster_cols = cluster_counts_size_norm.filter(\n",
    "    regex=f'{pixel_cluster_col}.*'\n",
    ").columns.values"
   ]
  },
  {
   "cell_type": "markdown",
   "metadata": {},
   "source": [
    "Generate the weighted cell channel expression file. This data will be needed to compute the weighted average channel expression per cell cluster (the data stored in `cell_som_cluster_channel_avg_name` and `cell_meta_cluster_channel_avg_name`). See documentation of `compute_p2c_weighted_channel_avg` for how weighted cell channel average is computed: <a href=https://ark-analysis.readthedocs.io/en/latest/_markdown/ark.phenotyping.html#ark.phenotyping.cell_cluster_utils.compute_p2c_weighted_channel_avg>cell channel weighting docs</a>.\n",
    "\n",
    "If this file already exists, skip this step."
   ]
  },
  {
   "cell_type": "code",
   "execution_count": 11,
   "metadata": {
    "execution": {
     "iopub.execute_input": "2024-11-08T19:37:07.676693Z",
     "iopub.status.busy": "2024-11-08T19:37:07.676600Z",
     "iopub.status.idle": "2024-11-08T19:37:07.816668Z",
     "shell.execute_reply": "2024-11-08T19:37:07.816167Z",
     "shell.execute_reply.started": "2024-11-08T19:37:07.676684Z"
    },
    "tags": [
     "generate_weighted_channel_data"
    ]
   },
   "outputs": [],
   "source": [
    "# depending on which pixel_cluster_col is selected, choose the pixel channel average table accordingly\n",
    "if pixel_cluster_col == 'pixel_som_cluster':\n",
    "    pc_chan_avg_name = pc_chan_avg_som_cluster_name\n",
    "elif pixel_cluster_col == 'pixel_meta_cluster_rename':\n",
    "    pc_chan_avg_name = pc_chan_avg_meta_cluster_name\n",
    "\n",
    "if not os.path.exists(os.path.join(base_dir, weighted_cell_channel_name)):\n",
    "    # generate the weighted cell channel expression data\n",
    "    pixel_channel_avg = pd.read_csv(os.path.join(base_dir, pc_chan_avg_name))\n",
    "    weighted_cell_channel = weighted_channel_comp.compute_p2c_weighted_channel_avg(\n",
    "        pixel_channel_avg,\n",
    "        channels,\n",
    "        cluster_counts,\n",
    "        fovs=fovs,\n",
    "        pixel_cluster_col=pixel_cluster_col\n",
    "    )\n",
    "\n",
    "    # write the data to weighted_cell_channel_name\n",
    "    feather.write_dataframe(\n",
    "        weighted_cell_channel,\n",
    "        os.path.join(base_dir, weighted_cell_channel_name),\n",
    "        compression='uncompressed'\n",
    "    )"
   ]
  },
  {
   "cell_type": "markdown",
   "metadata": {},
   "source": [
    "## 5. Cell clustering"
   ]
  },
  {
   "cell_type": "markdown",
   "metadata": {},
   "source": [
    "### 5.1: Visualize and train cell SOM"
   ]
  },
  {
   "cell_type": "code",
   "execution_count": 46,
   "metadata": {},
   "outputs": [],
   "source": [
    "\n",
    "def visualize_cell_som_training(\n",
    "    fovs: list,\n",
    "    cell_table_path: str,\n",
    "    cell_som_cluster_cols: list, \n",
    "    cell_som_input_data: pd.DataFrame, \n",
    "    channel_vis: str,\n",
    "    xdim: int = 10, \n",
    "    ydim: int = 10,\n",
    "    num_passes: int = 5,\n",
    "    lr_start: float = 0.05,\n",
    "    lr_end: float = 0.01,\n",
    "    show_plots: bool = False):\n",
    "\n",
    "\n",
    "    cell_data = cell_som_input_data[cell_som_input_data['fov'].isin(fovs)].reset_index(drop=True)\n",
    "    cell_data = cell_data.drop(columns=['label', 'cell_size'])\n",
    "    cell_table = pd.read_csv(cell_table_path)\n",
    "    filtered_rows = cell_table[cell_table['fov'] == fovs[0]]\n",
    "    centroid_data = pd.concat([filtered_rows])\n",
    "    train_data = cell_data[cell_som_cluster_cols].values.astype(np.float64)\n",
    "    num_nodes = xdim * ydim\n",
    "    image = imread(os.path.join(tiff_dir, \"fov1\", channel_vis+\".tif\"))\n",
    "    colors = plt.cm.tab20(np.linspace(0, 1, num_nodes))\n",
    "    node_cmap = ListedColormap(colors)\n",
    "\n",
    "    pbar_filesave = tqdm(total=100, unit=\"Percent\",\n",
    "                    bar_format='{l_bar}{bar}| {n_fmt}/{total_fmt} [{elapsed}<{remaining}]',\n",
    "                    colour=\"green\", position=0, leave=True)\n",
    "\n",
    "    scatter_frames = []\n",
    "    for rlen_iter in range(1, num_passes + 1):\n",
    "        # print(f\"Training for rlen={rlen_iter}\")\n",
    "        som = pyFlowSOM.som(train_data, xdim, ydim, rlen_iter, alpha_range=(lr_start, lr_end), seed=42)\n",
    "        clusters, dist = pyFlowSOM.map_data_to_nodes(som, train_data)\n",
    "\n",
    "        cell_data['cluster'] = clusters\n",
    "        df_mean = cell_data.groupby(['cluster']).mean()\n",
    "\n",
    "        fig = plt.figure(figsize=(21, 7))\n",
    "        # Create a GridSpec with 3 rows and 1 column\n",
    "        gs = gridspec.GridSpec(1, 3, width_ratios=[4, 4.2, 1])\n",
    "\n",
    "        axes = [fig.add_subplot(gs[i]) for i in range(3)]\n",
    "        im = axes[0].imshow(image, vmax=np.percentile(image, 99.9), cmap='gray')\n",
    "        fig.colorbar(im, shrink=0.5, ax=axes[0], cmap=node_cmap)\n",
    "        axes[0].set_title(f'Original Image: {channel_vis}')\n",
    "        im = axes[1].scatter(centroid_data['centroid-1_nuclear'], centroid_data['centroid-0_nuclear'], \n",
    "                                c=cell_data['cluster'],\n",
    "                                cmap=node_cmap, s=10)\n",
    "        axes[1].invert_yaxis()\n",
    "        axes[1].set_aspect(image.shape[1] / image.shape[0])\n",
    "        axes[1].set_title(f'SOM Iteration {rlen_iter}')\n",
    "        fig.colorbar(im, shrink=0.5, ax=axes[1], cmap=node_cmap)\n",
    "        axes[1].set_title(f\"SOM Visualization for rlen=(rlen={rlen_iter})\")\n",
    "\n",
    "        g=sns.clustermap(df_mean, z_score=1, cmap=\"vlag\", center=0, \n",
    "                        yticklabels=True, cbar=node_cmap)\n",
    "        heatmap_data = g.data2d\n",
    "        plt.close(g.figure)\n",
    "        im = sns.heatmap(data=heatmap_data, \n",
    "                ax=axes[2],\n",
    "                cmap=\"vlag\",\n",
    "                center=0,\n",
    "                xticklabels=g.data2d.columns,\n",
    "                yticklabels=g.data2d.index)\n",
    "        \n",
    "        # axes[2].set_aspect(image.shape[1] / image.shape[0])\n",
    "        axes[2].set_title(f'Cluster heatmap for rlen={rlen_iter}')\n",
    "        # fig.tight_layout()\n",
    "\n",
    "        canvas = fig.canvas\n",
    "        canvas.draw()\n",
    "        width, height = fig.get_size_inches() * fig.dpi\n",
    "        buf = np.frombuffer(canvas.buffer_rgba(), dtype=np.uint8)\n",
    "        buf.shape = (int(height), int(width), 4)\n",
    "        scatter_frame = buf[:, :, :3]\n",
    "        \n",
    "        scatter_frames.append(scatter_frame)\n",
    "        if show_plots:\n",
    "            plt.show()\n",
    "        plt.close(fig)\n",
    "        pbar_filesave.update(100 / (num_passes))\n",
    "\n",
    "    pbar_filesave.close()\n",
    "    scatter_stack = np.stack(scatter_frames, axis=0)\n",
    "    return scatter_stack\n"
   ]
  },
  {
   "cell_type": "code",
   "execution_count": null,
   "metadata": {},
   "outputs": [],
   "source": [
    "fov_vis = ['fov6']\n",
    "channel_vis = 'SMActin'\n",
    "xdim = 5\n",
    "ydim = 5\n",
    "num_passes = 1\n",
    "lr_start = 0.05\n",
    "lr_end = 0.01\n",
    "\n",
    "stack = visualize_cell_som_training(\n",
    "    fovs=fov_vis,\n",
    "    cell_table_path=cell_table_path,\n",
    "    cell_som_cluster_cols=cell_som_cluster_cols, \n",
    "    cell_som_input_data=cluster_counts_size_norm, \n",
    "    xdim=3, \n",
    "    ydim=3, \n",
    "    lr_start=0.05, \n",
    "    lr_end=0.01, \n",
    "    num_passes=15, \n",
    "    channel_vis = channel_vis,\n",
    "    show_plots=False\n",
    ")\n"
   ]
  },
  {
   "cell_type": "code",
   "execution_count": null,
   "metadata": {},
   "outputs": [],
   "source": [
    "%matplotlib widget\n",
    "stackview.slice(stack, zoom_factor=1)"
   ]
  },
  {
   "cell_type": "markdown",
   "metadata": {},
   "source": [
    "Train the cell SOM on the size-normalized number of pixel clusters per cell (the data stored in `cluster_counts_size_norm_name`). Training is done using the self-organizing map (SOM) algorithm. Note that each of the pixel SOM/meta cluster columns are normalized by their 99.9% value prior to training.\n",
    "\n",
    "For a full set of parameters you can customize for `train_cell_som`, please consult <a href=https://ark-analysis.readthedocs.io/en/latest/_markdown/ark.phenotyping.html#ark.phenotyping.cell_cluster_utils.train_cell_som>cell training docs</a>."
   ]
  },
  {
   "cell_type": "code",
   "execution_count": null,
   "metadata": {
    "execution": {
     "iopub.execute_input": "2024-11-08T19:37:18.449472Z",
     "iopub.status.busy": "2024-11-08T19:37:18.449294Z",
     "iopub.status.idle": "2024-11-08T19:37:18.525296Z",
     "shell.execute_reply": "2024-11-08T19:37:18.524841Z",
     "shell.execute_reply.started": "2024-11-08T19:37:18.449459Z"
    },
    "tags": [
     "train_cell_som"
    ]
   },
   "outputs": [],
   "source": [
    "# create the cell SOM weights\n",
    "cell_pysom = cell_som_clustering.train_cell_som(\n",
    "    fovs,\n",
    "    base_dir,\n",
    "    cell_table_path=cell_table_path,\n",
    "    cell_som_cluster_cols=cell_som_cluster_cols,\n",
    "    cell_som_input_data=cluster_counts_size_norm,\n",
    "    som_weights_name=cell_som_weights_name,\n",
    "    num_passes=1,\n",
    "    seed=42\n",
    ")"
   ]
  },
  {
   "cell_type": "markdown",
   "metadata": {},
   "source": [
    "### 5.2: Assign cell SOM clusters"
   ]
  },
  {
   "cell_type": "markdown",
   "metadata": {},
   "source": [
    "Use the weights learned from `train_cell_som` to assign cell clusters to the dataset. Note that this is done on the size-normalized pixel cluster counts table. As with `train_pixel_som`, each of the columns are normalized by their 99.9% value prior to assigning a cell SOM cluster label.\n",
    "\n",
    "`generate_som_avg_files` will compute the average number of pixel clusters per cell SOM cluster, as well as the number of cells in each cell SOM cluster (the data placed in `cell_som_cluster_count_avg_name`). This is needed for cell consensus clustering."
   ]
  },
  {
   "cell_type": "code",
   "execution_count": null,
   "metadata": {
    "execution": {
     "iopub.execute_input": "2024-11-08T19:37:23.690000Z",
     "iopub.status.busy": "2024-11-08T19:37:23.689824Z",
     "iopub.status.idle": "2024-11-08T19:37:24.268234Z",
     "shell.execute_reply": "2024-11-08T19:37:24.267755Z",
     "shell.execute_reply.started": "2024-11-08T19:37:23.689988Z"
    },
    "tags": [
     "cluster_cell_data"
    ]
   },
   "outputs": [],
   "source": [
    "# use cell SOM weights to assign cell clusters\n",
    "cluster_counts_size_norm = cell_som_clustering.cluster_cells(\n",
    "    base_dir,\n",
    "    cell_pysom,\n",
    "    cell_som_cluster_cols=cell_som_cluster_cols\n",
    ")\n",
    "\n",
    "# intermediate saving of cell data with SOM labels assigned\n",
    "feather.write_dataframe(\n",
    "    cluster_counts_size_norm,\n",
    "    os.path.join(base_dir, cluster_counts_size_norm_name),\n",
    "    compression='uncompressed'\n",
    ")\n",
    "\n",
    "# generate the SOM cluster summary files\n",
    "cell_som_clustering.generate_som_avg_files(\n",
    "    base_dir,\n",
    "    cluster_counts_size_norm,\n",
    "    cell_som_cluster_cols=cell_som_cluster_cols,\n",
    "    cell_som_expr_col_avg_name=cell_som_cluster_count_avg_name\n",
    ")"
   ]
  },
  {
   "cell_type": "markdown",
   "metadata": {},
   "source": [
    "### 5.3 Run cell consensus clustering"
   ]
  },
  {
   "cell_type": "markdown",
   "metadata": {},
   "source": [
    "Use consensus hierarchical clustering to cluster cell SOM clusters into a user-defined number of meta clusters. The consensus clusters are trained on the average number of pixel clusters across all cell SOM clusters (the data stored in `cell_som_cluster_count_avg_name`). These values are z-scored and capped at the value specified in the `cap` argument prior to consensus clustering. This helps improve meta clustering performance.\n",
    "\n",
    "After consensus clustering, the following are computed by `generate_meta_avg_files`:\n",
    "\n",
    "* The average number of pixel clusters across all cell meta clusters, and the number of cells per meta cluster (the data placed in `cell_meta_cluster_count_avg_name`)\n",
    "* The meta cluster mapping for each cell SOM cluster in `cell_som_cluster_count_avg_name` (data is resaved, same data except with an associated meta cluster column)\n",
    "\n",
    "`generate_wc_avg_files` also creates the following:\n",
    "\n",
    "* The weighted channel average across all cell clusters (the data placed in `cell_som_cluster_channel_avg_name` and `cell_meta_cluster_channel_avg_name`). This will be done for both `'cell_som_cluster'` and `'cell_meta_cluster'`.\n",
    "\n",
    "For a full set of parameters you can customize for `cell_consensus_cluster`, please consult <a href=https://ark-analysis.readthedocs.io/en/latest/_markdown/ark.phenotyping.html#ark.phenotyping.cell_cluster_utils.cell_consensus_cluster>cell consensus clustering docs</a>"
   ]
  },
  {
   "cell_type": "markdown",
   "metadata": {},
   "source": [
    "* `max_k`: the number of consensus clusters desired\n",
    "* `cap`: used to clip z-scored values prior to consensus clustering (in the range `[-cap, cap]`)"
   ]
  },
  {
   "cell_type": "code",
   "execution_count": null,
   "metadata": {
    "execution": {
     "iopub.execute_input": "2024-11-08T19:37:30.569920Z",
     "iopub.status.busy": "2024-11-08T19:37:30.569748Z",
     "iopub.status.idle": "2024-11-08T19:37:31.195496Z",
     "shell.execute_reply": "2024-11-08T19:37:31.195053Z",
     "shell.execute_reply.started": "2024-11-08T19:37:30.569909Z"
    },
    "tags": [
     "cell_consensus_cluster",
     "cell_mantis_project"
    ]
   },
   "outputs": [],
   "source": [
    "max_k = 10\n",
    "cap = 3\n",
    "\n",
    "# run hierarchical clustering using average count of pixel clusters per cell SOM cluster\n",
    "cell_cc, cluster_counts_size_norm = cell_meta_clustering.cell_consensus_cluster(\n",
    "    base_dir,\n",
    "    cell_som_cluster_cols=cell_som_cluster_cols,\n",
    "    cell_som_input_data=cluster_counts_size_norm,\n",
    "    cell_som_expr_col_avg_name=cell_som_cluster_count_avg_name,\n",
    "    max_k=max_k,\n",
    "    cap=cap\n",
    ")\n",
    "\n",
    "# intermediate saving of cell data with SOM and meta labels assigned\n",
    "feather.write_dataframe(\n",
    "    cluster_counts_size_norm,\n",
    "    os.path.join(base_dir, cluster_counts_size_norm_name),\n",
    "    compression='uncompressed'\n",
    ")\n",
    "\n",
    "# generate the meta cluster summary files\n",
    "cell_meta_clustering.generate_meta_avg_files(\n",
    "    base_dir,\n",
    "    cell_cc,\n",
    "    cell_som_cluster_cols=cell_som_cluster_cols,\n",
    "    cell_som_input_data=cluster_counts_size_norm,\n",
    "    cell_som_expr_col_avg_name=cell_som_cluster_count_avg_name,\n",
    "    cell_meta_expr_col_avg_name=cell_meta_cluster_count_avg_name\n",
    ")\n",
    "\n",
    "# generate weighted channel summary files\n",
    "weighted_channel_comp.generate_wc_avg_files(\n",
    "    fovs,\n",
    "    channels,\n",
    "    base_dir,\n",
    "    cell_cc,\n",
    "    cell_som_input_data=cluster_counts_size_norm,\n",
    "    weighted_cell_channel_name=weighted_cell_channel_name,\n",
    "    cell_som_cluster_channel_avg_name=cell_som_cluster_channel_avg_name,\n",
    "    cell_meta_cluster_channel_avg_name=cell_meta_cluster_channel_avg_name\n",
    ")"
   ]
  },
  {
   "cell_type": "markdown",
   "metadata": {},
   "source": [
    "## 6. Visualize results"
   ]
  },
  {
   "cell_type": "markdown",
   "metadata": {},
   "source": [
    "### 6.1 Interactive adjustments to relabel cell meta clusters"
   ]
  },
  {
   "cell_type": "markdown",
   "metadata": {},
   "source": [
    "The visualization shows the z-scored average pixel cluster count expression per cell SOM and meta cluster. The heatmaps are faceted by cell SOM clusters on the left and cell meta clusters on the right.\n",
    "\n",
    "#### Quickstart\n",
    "- **Select**: Left Click\n",
    "- **Remap**: **New metacluster button** or Right Click\n",
    "- **Edit Metacluster Name**: Textbox at bottom right of the heatmaps.\n",
    "\n",
    "#### Selection and Remapping details\n",
    "- To select a SOM cluster, click on its respective position in the **selected** bar. Click on it again to deselect.\n",
    "- To select a meta cluster, click on its corresponding color in the **metacluster** bar. Click on it again to deselect.\n",
    "- To remap the selected clusters, click the **New metacluster** button (alternatively, right click anywhere). Note that remapping an entire metacluster deletes it.\n",
    "- To clear the selected SOM/meta clusters, use the **Clear Selection** button.\n",
    "- **After remapping a meta cluster, make sure to deselect the newly created one to prevent unwanted combinations.**\n",
    "\n",
    "#### Other features and notes\n",
    "- You will likely need to zoom out to see the entire visualization. To toggle Zoom, use Ctrl -/Ctrl + on Windows or ⌘ +/⌘ - on Mac.\n",
    "- The bars at the top show the number of cells in each SOM cluster.\n",
    "- The text box at the bottom right allows you to rename a particular meta cluster. This can be useful as remapping may cause inconsistent numbering. **You cannot use the same name for different meta clusters; doing so will cause the next step to fail.**\n",
    "- Adjust the z-score limit using the slider on the bottom left to adjust your dynamic range.\n",
    "- When meta clusters are combined or a meta cluster is renamed, the change is immediately saved to `cell_meta_cluster_remap_name`.\n",
    "- You won't be able to advance until you've clicked `New metacluster` or renamed a meta cluster at least once. If you do not want to make changes, just click `New metacluster` to trigger a save before continuing."
   ]
  },
  {
   "cell_type": "code",
   "execution_count": null,
   "metadata": {
    "execution": {
     "iopub.execute_input": "2024-11-08T19:37:36.370144Z",
     "iopub.status.busy": "2024-11-08T19:37:36.369861Z",
     "iopub.status.idle": "2024-11-08T19:37:36.953163Z",
     "shell.execute_reply": "2024-11-08T19:37:36.952855Z",
     "shell.execute_reply.started": "2024-11-08T19:37:36.370131Z"
    },
    "tags": [
     "cell_interactive"
    ]
   },
   "outputs": [],
   "source": [
    "%matplotlib widget\n",
    "rc_file_defaults()\n",
    "plt.ion()\n",
    "\n",
    "cell_mcd = metaclusterdata_from_files(\n",
    "    os.path.join(base_dir, cell_som_cluster_count_avg_name),\n",
    "    cluster_type='cell',\n",
    "    prefix_trim=pixel_cluster_col + '_'\n",
    ")\n",
    "cell_mcd.output_mapping_filename = os.path.join(base_dir, cell_meta_cluster_remap_name)\n",
    "cell_mcg = MetaClusterGui(cell_mcd, width=15)"
   ]
  },
  {
   "cell_type": "markdown",
   "metadata": {},
   "source": [
    "Relabel the cell meta clusters using the mapping, and recompute the meta cluster average files with the new meta cluster names."
   ]
  },
  {
   "cell_type": "code",
   "execution_count": null,
   "metadata": {
    "execution": {
     "iopub.execute_input": "2024-11-08T20:01:42.153587Z",
     "iopub.status.busy": "2024-11-08T20:01:42.153417Z",
     "iopub.status.idle": "2024-11-08T20:01:42.479774Z",
     "shell.execute_reply": "2024-11-08T20:01:42.479295Z",
     "shell.execute_reply.started": "2024-11-08T20:01:42.153574Z"
    },
    "tags": [
     "cell_apply_remap"
    ]
   },
   "outputs": [],
   "source": [
    "# rename the meta cluster values in the cell dataset\n",
    "cluster_counts_size_norm = cell_meta_clustering.apply_cell_meta_cluster_remapping(\n",
    "    base_dir,\n",
    "    cluster_counts_size_norm,\n",
    "    cell_meta_cluster_remap_name\n",
    ")\n",
    "\n",
    "# intermediate saving of cell data with SOM, raw meta, and renamed meta labels assigned\n",
    "feather.write_dataframe(\n",
    "    cluster_counts_size_norm,\n",
    "    os.path.join(base_dir, cluster_counts_size_norm_name),\n",
    "    compression='uncompressed'\n",
    ")\n",
    "\n",
    "# recompute the mean column expression per meta cluster and apply these new names to the SOM cluster average data\n",
    "cell_meta_clustering.generate_remap_avg_count_files(\n",
    "    base_dir,\n",
    "    cluster_counts_size_norm,\n",
    "    cell_meta_cluster_remap_name,\n",
    "    cell_som_cluster_cols,\n",
    "    cell_som_cluster_count_avg_name,\n",
    "    cell_meta_cluster_count_avg_name,\n",
    ")\n",
    "\n",
    "# recompute the mean weighted channel expression per meta cluster and apply these new names to the SOM channel average data\n",
    "weighted_channel_comp.generate_remap_avg_wc_files(\n",
    "    fovs,\n",
    "    channels,\n",
    "    base_dir,\n",
    "    cluster_counts_size_norm,\n",
    "    cell_meta_cluster_remap_name,\n",
    "    weighted_cell_channel_name,\n",
    "    cell_som_cluster_channel_avg_name,\n",
    "    cell_meta_cluster_channel_avg_name\n",
    ")"
   ]
  },
  {
   "cell_type": "markdown",
   "metadata": {},
   "source": [
    "Generate the color scheme returned by the interactive reclustering process. This will be for visualizing the weighted channel average heatmaps and the cell phenotype maps."
   ]
  },
  {
   "cell_type": "code",
   "execution_count": 17,
   "metadata": {
    "execution": {
     "iopub.execute_input": "2024-11-08T20:40:02.846160Z",
     "iopub.status.busy": "2024-11-08T20:40:02.845982Z",
     "iopub.status.idle": "2024-11-08T20:40:02.849640Z",
     "shell.execute_reply": "2024-11-08T20:40:02.849369Z",
     "shell.execute_reply.started": "2024-11-08T20:40:02.846146Z"
    },
    "tags": [
     "cell_cmap_gen"
    ]
   },
   "outputs": [],
   "source": [
    "raw_cmap, renamed_cmap = colormap_helper.generate_meta_cluster_colormap_dict(\n",
    "    cell_mcd.output_mapping_filename,\n",
    "    cell_mcg.im_cl.cmap,\n",
    "    cluster_type='cell'\n",
    ")"
   ]
  },
  {
   "cell_type": "markdown",
   "metadata": {},
   "source": [
    "### 6.2 Weighted cell SOM cluster average heatmap over channels (z-scored)"
   ]
  },
  {
   "cell_type": "code",
   "execution_count": null,
   "metadata": {
    "execution": {
     "iopub.execute_input": "2024-11-08T20:40:06.587704Z",
     "iopub.status.busy": "2024-11-08T20:40:06.587509Z",
     "iopub.status.idle": "2024-11-08T20:40:07.033140Z",
     "shell.execute_reply": "2024-11-08T20:40:07.032843Z",
     "shell.execute_reply.started": "2024-11-08T20:40:06.587691Z"
    },
    "tags": [
     "cell_som_heatmap"
    ]
   },
   "outputs": [],
   "source": [
    "weighted_channel_comp.generate_weighted_channel_avg_heatmap(\n",
    "    os.path.join(base_dir, cell_som_cluster_channel_avg_name),\n",
    "    'cell_som_cluster',\n",
    "    channels,\n",
    "    raw_cmap,\n",
    "    renamed_cmap\n",
    ")"
   ]
  },
  {
   "cell_type": "markdown",
   "metadata": {},
   "source": [
    "### 6.3 Weighted cell meta cluster average heatmap over channels (z-scored)"
   ]
  },
  {
   "cell_type": "code",
   "execution_count": null,
   "metadata": {
    "execution": {
     "iopub.execute_input": "2024-11-08T20:01:54.818496Z",
     "iopub.status.busy": "2024-11-08T20:01:54.818317Z",
     "iopub.status.idle": "2024-11-08T20:01:55.205677Z",
     "shell.execute_reply": "2024-11-08T20:01:55.205387Z",
     "shell.execute_reply.started": "2024-11-08T20:01:54.818483Z"
    },
    "tags": [
     "cell_meta_heatmap"
    ]
   },
   "outputs": [],
   "source": [
    "weighted_channel_comp.generate_weighted_channel_avg_heatmap(\n",
    "    os.path.join(base_dir, cell_meta_cluster_channel_avg_name),\n",
    "    'cell_meta_cluster_rename',\n",
    "    channels,\n",
    "    raw_cmap,\n",
    "    renamed_cmap,\n",
    "    center_val=0,\n",
    "    min_val=-3,\n",
    "    max_val=3,\n",
    ")"
   ]
  },
  {
   "cell_type": "markdown",
   "metadata": {},
   "source": [
    "### 6.4 Generate cell phenotype maps\n",
    "\n",
    "Generate cell phenotype maps, in which each pixel in the image corresponds to its cell meta cluster. Run this cell if you wish to create cell cluster mask images for downstream analysis."
   ]
  },
  {
   "cell_type": "code",
   "execution_count": 20,
   "metadata": {
    "execution": {
     "iopub.execute_input": "2024-11-08T20:32:45.250799Z",
     "iopub.status.busy": "2024-11-08T20:32:45.250627Z",
     "iopub.status.idle": "2024-11-08T20:32:45.253076Z",
     "shell.execute_reply": "2024-11-08T20:32:45.252719Z",
     "shell.execute_reply.started": "2024-11-08T20:32:45.250787Z"
    },
    "tags": [
     "cell_overlay_fovs"
    ]
   },
   "outputs": [],
   "source": [
    "# select fovs to display\n",
    "subset_cell_fovs = ['fov0', 'fov1', 'fov2', 'fov3']\n",
    "# , 'fov4', 'fov5', 'fov6', 'fov7', 'fov8', 'fov9', 'fov10', 'fov11', 'fov12', 'fov13', 'fov14', 'fov15', 'fov16', 'fov17', 'fov18', 'fov19', 'fov20', 'fov21','fov22', 'fov23']"
   ]
  },
  {
   "cell_type": "code",
   "execution_count": null,
   "metadata": {
    "execution": {
     "iopub.execute_input": "2024-11-08T20:33:33.026042Z",
     "iopub.status.busy": "2024-11-08T20:33:33.025879Z",
     "iopub.status.idle": "2024-11-08T20:33:36.706399Z",
     "shell.execute_reply": "2024-11-08T20:33:36.706081Z",
     "shell.execute_reply.started": "2024-11-08T20:33:33.026031Z"
    },
    "tags": [
     "cell_mask_gen_save"
    ]
   },
   "outputs": [],
   "source": [
    "# generate and save the cell cluster masks for each fov in subset_cell_fovs\n",
    "data_utils.generate_and_save_cell_cluster_masks(\n",
    "    fovs=subset_cell_fovs,\n",
    "    save_dir=os.path.join(base_dir, \"pixie\", cell_output_dir),\n",
    "    seg_dir=os.path.join(base_dir, segmentation_dir),\n",
    "    cell_data=cluster_counts_size_norm,\n",
    "    cluster_id_to_name_path=os.path.join(base_dir, cell_meta_cluster_remap_name),\n",
    "    seg_suffix=seg_suffix,\n",
    "    sub_dir='cell_masks',\n",
    "    name_suffix='_cell_mask',\n",
    "    cell_cluster_col='cell_meta_cluster'\n",
    ")"
   ]
  },
  {
   "cell_type": "markdown",
   "metadata": {},
   "source": [
    "Save the colored cell masks for each FOV in `subset_cell_fovs`."
   ]
  },
  {
   "cell_type": "code",
   "execution_count": null,
   "metadata": {
    "execution": {
     "iopub.execute_input": "2024-11-08T20:33:45.905348Z",
     "iopub.status.busy": "2024-11-08T20:33:45.905170Z",
     "iopub.status.idle": "2024-11-08T20:33:47.449417Z",
     "shell.execute_reply": "2024-11-08T20:33:47.449101Z",
     "shell.execute_reply.started": "2024-11-08T20:33:45.905336Z"
    },
    "tags": [
     "save_cell_masks"
    ]
   },
   "outputs": [],
   "source": [
    "plot_utils.save_colored_masks(\n",
    "    fovs=subset_cell_fovs,\n",
    "    mask_dir=os.path.join(base_dir, \"pixie\",cell_output_dir, \"cell_masks\"),\n",
    "    save_dir=os.path.join(base_dir, \"pixie\",cell_output_dir, \"cell_mask_colored\"),\n",
    "    cluster_id_to_name_path=os.path.join(base_dir, cell_meta_cluster_remap_name),\n",
    "    metacluster_colors=raw_cmap,\n",
    "    cluster_type=\"cell\"\n",
    ")"
   ]
  },
  {
   "cell_type": "markdown",
   "metadata": {},
   "source": [
    "Load a subset of the cell cluster masks that you would like to preview. If the dimensions or text size of the plot need to be adjusted for optimal viewing, change the `figsize` and `dpi` parameters."
   ]
  },
  {
   "cell_type": "code",
   "execution_count": null,
   "metadata": {
    "execution": {
     "iopub.execute_input": "2024-11-08T20:40:25.377958Z",
     "iopub.status.busy": "2024-11-08T20:40:25.377780Z",
     "iopub.status.idle": "2024-11-08T20:40:31.295284Z",
     "shell.execute_reply": "2024-11-08T20:40:31.294941Z",
     "shell.execute_reply.started": "2024-11-08T20:40:25.377946Z"
    },
    "tags": [
     "cell_overlay_gen"
    ]
   },
   "outputs": [],
   "source": [
    "for cell_fov in subset_cell_fovs:\n",
    "    cell_cluster_mask = load_utils.load_imgs_from_dir(\n",
    "        data_dir = os.path.join(base_dir, \"pixie\", cell_output_dir, \"cell_masks\"),\n",
    "        files=[cell_fov + \"_cell_mask.tiff\"],\n",
    "        trim_suffix=\"_cell_mask\",\n",
    "        match_substring=\"_cell_mask\",\n",
    "        xr_dim_name=\"cell_mask\",\n",
    "        xr_channel_names=None,\n",
    "    )\n",
    "\n",
    "    plot_utils.plot_pixel_cell_cluster(\n",
    "        cell_cluster_mask,\n",
    "        [cell_fov],\n",
    "        os.path.join(base_dir, cell_meta_cluster_remap_name),\n",
    "        metacluster_colors=raw_cmap,\n",
    "        cluster_type='cell',\n",
    "        # erode=True, 27\n",
    "        figsize=(5,5),\n",
    "        # dpi=150\n",
    "    )"
   ]
  },
  {
   "cell_type": "markdown",
   "metadata": {},
   "source": [
    "Append consensus cluster labels to cell table. The cell table with cell meta cluster labels is saved to `{cell_table_path}_cell_labels.csv`"
   ]
  },
  {
   "cell_type": "code",
   "execution_count": 24,
   "metadata": {
    "execution": {
     "iopub.execute_input": "2024-11-08T20:04:03.535117Z",
     "iopub.status.busy": "2024-11-08T20:04:03.534938Z",
     "iopub.status.idle": "2024-11-08T20:04:10.920291Z",
     "shell.execute_reply": "2024-11-08T20:04:10.919799Z",
     "shell.execute_reply.started": "2024-11-08T20:04:03.535104Z"
    },
    "tags": [
     "cell_append_meta"
    ]
   },
   "outputs": [],
   "source": [
    "cell_cluster_utils.add_consensus_labels_cell_table(\n",
    "    base_dir, cell_table_path, cluster_counts_size_norm\n",
    ")"
   ]
  },
  {
   "cell_type": "markdown",
   "metadata": {},
   "source": [
    "### 6.5 Save images for Mantis Viewer\n",
    "\n",
    "Mantis Viewer is a visualization tool for multi-dimensional imaging in pathology. Learn more about Mantis Viewer in the [README](../notebooks/ark/README.md#mantis-viewer)."
   ]
  },
  {
   "cell_type": "code",
   "execution_count": 25,
   "metadata": {
    "execution": {
     "iopub.execute_input": "2024-11-08T20:04:10.926640Z",
     "iopub.status.busy": "2024-11-08T20:04:10.926552Z",
     "iopub.status.idle": "2024-11-08T20:04:10.933896Z",
     "shell.execute_reply": "2024-11-08T20:04:10.933624Z",
     "shell.execute_reply.started": "2024-11-08T20:04:10.926631Z"
    },
    "tags": [
     "cell_mantis_project"
    ]
   },
   "outputs": [],
   "source": [
    "plot_utils.create_mantis_dir(\n",
    "    fovs=subset_cell_fovs,\n",
    "    mantis_project_path=os.path.join(base_dir, \"mantis\"),\n",
    "    img_data_path=tiff_dir,\n",
    "    mask_output_dir=os.path.join(base_dir, \"pixie\", cell_output_dir, \"cell_masks\"),\n",
    "    mapping = os.path.join(base_dir, cell_meta_cluster_remap_name),\n",
    "    seg_dir=os.path.join(base_dir, segmentation_dir),\n",
    "    cluster_type='cell',\n",
    "    mask_suffix=\"_cell_mask\",\n",
    "    seg_suffix_name=seg_suffix,\n",
    "    # img_sub_folder=img_sub_folder\n",
    ")"
   ]
  },
  {
   "cell_type": "markdown",
   "metadata": {},
   "source": [
    "## 7.0 Fundamental Analysis"
   ]
  },
  {
   "cell_type": "code",
   "execution_count": null,
   "metadata": {},
   "outputs": [],
   "source": [
    "import anndata as ad\n",
    "annotDF = pd.read_csv(cell_table_path)\n",
    "annotDF.reset_index(drop=True,inplace=True)\n",
    "list(annotDF.columns.tolist())"
   ]
  },
  {
   "cell_type": "code",
   "execution_count": null,
   "metadata": {},
   "outputs": [],
   "source": [
    "annotDF.isna().sum()"
   ]
  },
  {
   "cell_type": "code",
   "execution_count": null,
   "metadata": {},
   "outputs": [],
   "source": [
    "channels = ['CD3e', 'CD4', 'CD8', 'SMActin']\n",
    "protDF = annotDF[[col for col in annotDF.columns if any(channel in col for channel in channels)]]\n",
    "protDF.head()"
   ]
  },
  {
   "cell_type": "code",
   "execution_count": null,
   "metadata": {},
   "outputs": [],
   "source": [
    "spatial = ['cell_size', 'centroid-0_nuclear', 'centroid-1_nuclear', 'centroid-0_cell', 'centroid-1_cell', 'fov', 'label', 'label_nuclear', 'mask_type']\n",
    "spatDF = annotDF[[col for col in annotDF.columns if any(channel in col for channel in spatial)]]\n",
    "spatDF.head()"
   ]
  },
  {
   "cell_type": "markdown",
   "metadata": {},
   "source": []
  },
  {
   "cell_type": "code",
   "execution_count": null,
   "metadata": {},
   "outputs": [],
   "source": [
    "protDF.shape"
   ]
  },
  {
   "cell_type": "code",
   "execution_count": null,
   "metadata": {},
   "outputs": [],
   "source": [
    "spatDF.shape"
   ]
  },
  {
   "cell_type": "code",
   "execution_count": null,
   "metadata": {},
   "outputs": [],
   "source": [
    "spat_dir = \"C:/Users/smith6jt/KINTSUGI/data/1904_CC2B_Spatial\"\n",
    "os.makedirs(spat_dir, exist_ok=True)\n",
    "adata = ad.AnnData (protDF)\n",
    "adata.obs = spatDF\n",
    "adata.write_h5ad(os.path.join(spat_dir, '1904_CC2B.h5ad'))"
   ]
  },
  {
   "cell_type": "code",
   "execution_count": 28,
   "metadata": {},
   "outputs": [],
   "source": [
    "adata = ad.read_h5ad(os.path.join(spat_dir, '1904_CC2B.h5ad'))"
   ]
  },
  {
   "cell_type": "code",
   "execution_count": null,
   "metadata": {},
   "outputs": [],
   "source": [
    "import scanpy as sc"
   ]
  },
  {
   "cell_type": "code",
   "execution_count": null,
   "metadata": {},
   "outputs": [],
   "source": [
    "adata1 = adata[:,['CD3e', 'CD4', 'CD8', 'SMActin']]"
   ]
  },
  {
   "cell_type": "code",
   "execution_count": null,
   "metadata": {},
   "outputs": [],
   "source": [
    "adata1"
   ]
  },
  {
   "cell_type": "code",
   "execution_count": 37,
   "metadata": {},
   "outputs": [],
   "source": [
    "sc.tl.pca(adata1, svd_solver='arpack') # peform PCA"
   ]
  },
  {
   "cell_type": "code",
   "execution_count": 38,
   "metadata": {},
   "outputs": [],
   "source": [
    "sc.pp.neighbors(adata1)"
   ]
  },
  {
   "cell_type": "code",
   "execution_count": 39,
   "metadata": {},
   "outputs": [],
   "source": [
    "sc.tl.leiden(adata1)"
   ]
  },
  {
   "cell_type": "code",
   "execution_count": 40,
   "metadata": {},
   "outputs": [],
   "source": [
    "sc.tl.umap(adata1, min_dist=0.01, spread=2.5)"
   ]
  },
  {
   "cell_type": "code",
   "execution_count": null,
   "metadata": {},
   "outputs": [],
   "source": [
    "from matplotlib.pyplot import rc_context\n",
    "with rc_context({\"figure.figsize\": (8, 12),'axes.titlesize':25,'axes.labelsize':20, 'xtick.labelsize':20, 'ytick.labelsize':20}):\n",
    "    sc.settings.set_figure_params( facecolor=\"white\", frameon=False, figsize=(10,10))\n",
    "    sc.pl.umap(adata1, color=['leiden'], legend_fontsize='xx-large', ncols=1, wspace=0.7, s=5, legend_loc='on data', legend_fontoutline=2, add_outline=True)"
   ]
  }
 ],
 "metadata": {
  "kernelspec": {
   "display_name": "KINTSUGI",
   "language": "python",
   "name": "python3"
  },
  "language_info": {
   "codemirror_mode": {
    "name": "ipython",
    "version": 3
   },
   "file_extension": ".py",
   "mimetype": "text/x-python",
   "name": "python",
   "nbconvert_exporter": "python",
   "pygments_lexer": "ipython3",
   "version": "3.9.20"
  },
  "nbdime-conflicts": {
   "local_diff": [
    {
     "diff": [
      {
       "key": "version",
       "op": "remove"
      }
     ],
     "key": "language_info",
     "op": "patch"
    }
   ],
   "remote_diff": [
    {
     "diff": [
      {
       "diff": [
        {
         "key": 0,
         "op": "addrange",
         "valuelist": [
          "3.9.16"
         ]
        },
        {
         "key": 0,
         "length": 1,
         "op": "removerange"
        }
       ],
       "key": "version",
       "op": "patch"
      }
     ],
     "key": "language_info",
     "op": "patch"
    }
   ]
  }
 },
 "nbformat": 4,
 "nbformat_minor": 4
}
